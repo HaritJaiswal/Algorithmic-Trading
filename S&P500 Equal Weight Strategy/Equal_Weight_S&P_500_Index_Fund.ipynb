{
  "cells": [
    {
      "cell_type": "markdown",
      "metadata": {
        "id": "iXtFzQF75yH8"
      },
      "source": [
        "# Equal-Weight S&P 500 Index Fund\n",
        "\n",
        "## Introduction & Library Imports\n",
        "\n",
        "The S&P 500 is the world's most popular stock market index. The largest fund that is benchmarked to this index is the SPDR® S&P 500® ETF Trust. It has more than US$250 billion of assets under management.\n",
        "\n",
        "The goal of this section of the course is to create a Python script that will accept the value of your portfolio and tell you how many shares of each S&P 500 constituent you should purchase to get an equal-weight version of the index fund.\n",
        "\n",
        "## Library Imports\n",
        "\n",
        "The first thing we need to do is import the open-source software libraries that we'll be using in this tutorial."
      ]
    },
    {
      "cell_type": "code",
      "source": [
        "!pip3 install xlsxwriter"
      ],
      "metadata": {
        "colab": {
          "base_uri": "https://localhost:8080/"
        },
        "id": "tV4m2kJ365rR",
        "outputId": "b75d47c0-4cc3-4bdd-cba6-4a1c63ff6dfc"
      },
      "execution_count": null,
      "outputs": [
        {
          "output_type": "stream",
          "name": "stdout",
          "text": [
            "Collecting xlsxwriter\n",
            "  Downloading XlsxWriter-3.0.2-py3-none-any.whl (149 kB)\n",
            "\u001b[?25l\r\u001b[K     |██▏                             | 10 kB 15.7 MB/s eta 0:00:01\r\u001b[K     |████▍                           | 20 kB 18.6 MB/s eta 0:00:01\r\u001b[K     |██████▋                         | 30 kB 10.8 MB/s eta 0:00:01\r\u001b[K     |████████▊                       | 40 kB 8.8 MB/s eta 0:00:01\r\u001b[K     |███████████                     | 51 kB 5.7 MB/s eta 0:00:01\r\u001b[K     |█████████████▏                  | 61 kB 5.4 MB/s eta 0:00:01\r\u001b[K     |███████████████▎                | 71 kB 5.4 MB/s eta 0:00:01\r\u001b[K     |█████████████████▌              | 81 kB 6.1 MB/s eta 0:00:01\r\u001b[K     |███████████████████▊            | 92 kB 6.1 MB/s eta 0:00:01\r\u001b[K     |█████████████████████▉          | 102 kB 5.3 MB/s eta 0:00:01\r\u001b[K     |████████████████████████        | 112 kB 5.3 MB/s eta 0:00:01\r\u001b[K     |██████████████████████████▎     | 122 kB 5.3 MB/s eta 0:00:01\r\u001b[K     |████████████████████████████▍   | 133 kB 5.3 MB/s eta 0:00:01\r\u001b[K     |██████████████████████████████▋ | 143 kB 5.3 MB/s eta 0:00:01\r\u001b[K     |████████████████████████████████| 149 kB 5.3 MB/s \n",
            "\u001b[?25hInstalling collected packages: xlsxwriter\n",
            "Successfully installed xlsxwriter-3.0.2\n"
          ]
        }
      ]
    },
    {
      "cell_type": "code",
      "execution_count": null,
      "metadata": {
        "id": "t295Od9v5yH-"
      },
      "outputs": [],
      "source": [
        "import numpy as np\n",
        "import pandas as pd\n",
        "import requests\n",
        "import xlsxwriter\n",
        "import math"
      ]
    },
    {
      "cell_type": "markdown",
      "metadata": {
        "id": "PfBjfPm25yH_"
      },
      "source": [
        "## Importing Our List of Stocks\n",
        "\n",
        "The next thing we need to do is import the constituents of the S&P 500.\n",
        "\n",
        "These constituents change over time, so in an ideal world you would connect directly to the index provider (Standard & Poor's) and pull their real-time constituents on a regular basis.\n",
        "\n",
        "Paying for access to the index provider's API is outside of the scope of this course. \n",
        "\n",
        "There's a static version of the S&P 500 constituents available here. [Click this link to download them now](https://drive.google.com/file/d/1ZJSpbY69DVckVZlO9cC6KkgfSufybcHN/view?usp=sharing). Move this file into the `starter-files` folder so it can be accessed by other files in that directory.\n",
        "\n",
        "Now it's time to import these stocks to our Jupyter Notebook file."
      ]
    },
    {
      "cell_type": "code",
      "execution_count": null,
      "metadata": {
        "id": "u_doTav95yH_"
      },
      "outputs": [],
      "source": [
        "stocks = pd.read_csv('sp_500_stocks.csv')"
      ]
    },
    {
      "cell_type": "markdown",
      "metadata": {
        "id": "C2g_lhNF5yIA"
      },
      "source": [
        "## Acquiring an API Token\n",
        "\n",
        "Now it's time to import our IEX Cloud API token. This is the data provider that we will be using throughout this course.\n",
        "\n",
        "API tokens (and other sensitive information) should be stored in a `secrets.py` file that doesn't get pushed to your local Git repository. We'll be using a sandbox API token in this course, which means that the data we'll use is randomly-generated and (more importantly) has no cost associated with it.\n",
        "\n",
        "[Click here](http://nickmccullum.com/algorithmic-trading-python/secrets.py) to download your `secrets.py` file. Move the file into the same directory as this Jupyter Notebook before proceeding."
      ]
    },
    {
      "cell_type": "code",
      "execution_count": null,
      "metadata": {
        "id": "F-GjMqFg5yIA"
      },
      "outputs": [],
      "source": [
        "from secrets import IEX_CLOUD_API_TOKEN"
      ]
    },
    {
      "cell_type": "markdown",
      "metadata": {
        "id": "fB1zWWhg5yIB"
      },
      "source": [
        "## Making Our First API Call\n",
        "\n",
        "Now it's time to structure our API calls to IEX cloud. \n",
        "\n",
        "We need the following information from the API:\n",
        "\n",
        "* Market capitalization for each stock\n",
        "* Price of each stock\n",
        "\n"
      ]
    },
    {
      "cell_type": "code",
      "execution_count": null,
      "metadata": {
        "colab": {
          "base_uri": "https://localhost:8080/"
        },
        "id": "dKMlVaTc5yIB",
        "outputId": "9ecb8be3-72ad-4eb6-c967-9dce1154f2bd"
      },
      "outputs": [
        {
          "output_type": "execute_result",
          "data": {
            "text/plain": [
              "{'avgTotalVolume': 123048723,\n",
              " 'calculationPrice': 'tops',\n",
              " 'change': -4.5,\n",
              " 'changePercent': -0.02544,\n",
              " 'close': 0,\n",
              " 'closeSource': 'icfliaof',\n",
              " 'closeTime': None,\n",
              " 'companyName': 'Apple Inc',\n",
              " 'currency': 'USD',\n",
              " 'delayedPrice': None,\n",
              " 'delayedPriceTime': None,\n",
              " 'extendedChange': None,\n",
              " 'extendedChangePercent': None,\n",
              " 'extendedPrice': None,\n",
              " 'extendedPriceTime': None,\n",
              " 'high': 0,\n",
              " 'highSource': None,\n",
              " 'highTime': None,\n",
              " 'iexAskPrice': 184.6,\n",
              " 'iexAskSize': 116,\n",
              " 'iexBidPrice': 181.8,\n",
              " 'iexBidSize': 208,\n",
              " 'iexClose': 175.03,\n",
              " 'iexCloseTime': 1661760259710,\n",
              " 'iexLastUpdated': 1718020981331,\n",
              " 'iexMarketPercent': 0.016025165248906154,\n",
              " 'iexOpen': 185.3,\n",
              " 'iexOpenTime': 1666420652255,\n",
              " 'iexRealtimePrice': 176.92,\n",
              " 'iexRealtimeSize': 311,\n",
              " 'iexVolume': 800608,\n",
              " 'isUSMarketOpen': True,\n",
              " 'lastTradeTime': 1672831270493,\n",
              " 'latestPrice': 179.94,\n",
              " 'latestSource': 'IEX real time price',\n",
              " 'latestTime': '11:05:04 AM',\n",
              " 'latestUpdate': 1697358958607,\n",
              " 'latestVolume': None,\n",
              " 'low': 0,\n",
              " 'lowSource': None,\n",
              " 'lowTime': None,\n",
              " 'marketCap': 2935283792560,\n",
              " 'oddLotDelayedPrice': None,\n",
              " 'oddLotDelayedPriceTime': None,\n",
              " 'open': 0,\n",
              " 'openSource': 'lcfifoai',\n",
              " 'openTime': None,\n",
              " 'peRatio': 15.74,\n",
              " 'previousClose': 187.1,\n",
              " 'previousVolume': 134768309,\n",
              " 'primaryExchange': 'ANSQAD',\n",
              " 'symbol': 'AAPL',\n",
              " 'volume': None,\n",
              " 'week52High': 185.6,\n",
              " 'week52Low': 118.9,\n",
              " 'ytdChange': 0.34729466697871136}"
            ]
          },
          "metadata": {},
          "execution_count": 5
        }
      ],
      "source": [
        "symbol='AAPL'\n",
        "api_url = f'https://sandbox.iexapis.com/stable/stock/{symbol}/quote?token={IEX_CLOUD_API_TOKEN}'\n",
        "data = requests.get(api_url).json()\n",
        "data"
      ]
    },
    {
      "cell_type": "markdown",
      "metadata": {
        "id": "YRr5givg5yIB"
      },
      "source": [
        "## Parsing Our API Call\n",
        "\n",
        "The API call that we executed in the last code block contains all of the information required to build our equal-weight S&P 500 strategy. \n",
        "\n",
        "With that said, the data isn't in a proper format yet. We need to parse it first."
      ]
    },
    {
      "cell_type": "code",
      "execution_count": null,
      "metadata": {
        "colab": {
          "base_uri": "https://localhost:8080/"
        },
        "id": "TA8MGTid5yIC",
        "outputId": "5cc47a08-42a5-4e73-efba-3248352e30c6"
      },
      "outputs": [
        {
          "output_type": "execute_result",
          "data": {
            "text/plain": [
              "2935.28379256"
            ]
          },
          "metadata": {},
          "execution_count": 6
        }
      ],
      "source": [
        "price = data['latestPrice']\n",
        "market_cap = data['marketCap']\n",
        "market_cap/1e9"
      ]
    },
    {
      "cell_type": "markdown",
      "metadata": {
        "id": "xnYXFGue5yIC"
      },
      "source": [
        "## Adding Our Stocks Data to a Pandas DataFrame\n",
        "\n",
        "The next thing we need to do is add our stock's price and market capitalization to a pandas DataFrame. Think of a DataFrame like the Python version of a spreadsheet. It stores tabular data."
      ]
    },
    {
      "cell_type": "code",
      "execution_count": null,
      "metadata": {
        "colab": {
          "base_uri": "https://localhost:8080/",
          "height": 49
        },
        "id": "bJMrcLOP5yIC",
        "outputId": "088c7c3f-9849-416e-e757-8206977739bf"
      },
      "outputs": [
        {
          "output_type": "execute_result",
          "data": {
            "text/html": [
              "<div>\n",
              "<style scoped>\n",
              "    .dataframe tbody tr th:only-of-type {\n",
              "        vertical-align: middle;\n",
              "    }\n",
              "\n",
              "    .dataframe tbody tr th {\n",
              "        vertical-align: top;\n",
              "    }\n",
              "\n",
              "    .dataframe thead th {\n",
              "        text-align: right;\n",
              "    }\n",
              "</style>\n",
              "<table border=\"1\" class=\"dataframe\">\n",
              "  <thead>\n",
              "    <tr style=\"text-align: right;\">\n",
              "      <th></th>\n",
              "      <th>Ticker</th>\n",
              "      <th>Price</th>\n",
              "      <th>Market Capitalization</th>\n",
              "      <th>Number Of Shares to Buy</th>\n",
              "    </tr>\n",
              "  </thead>\n",
              "  <tbody>\n",
              "  </tbody>\n",
              "</table>\n",
              "</div>"
            ],
            "text/plain": [
              "Empty DataFrame\n",
              "Columns: [Ticker, Price, Market Capitalization, Number Of Shares to Buy]\n",
              "Index: []"
            ]
          },
          "metadata": {},
          "execution_count": 7
        }
      ],
      "source": [
        "my_columns = ['Ticker', 'Price','Market Capitalization', 'Number Of Shares to Buy']\n",
        "final_dataframe = pd.DataFrame(columns = my_columns)\n",
        "final_dataframe"
      ]
    },
    {
      "cell_type": "code",
      "execution_count": null,
      "metadata": {
        "colab": {
          "base_uri": "https://localhost:8080/",
          "height": 80
        },
        "id": "FvwDDnPQ5yIC",
        "outputId": "09e4bbf7-c14d-4c0c-b82e-b1c7900c77a0"
      },
      "outputs": [
        {
          "output_type": "execute_result",
          "data": {
            "text/html": [
              "<div>\n",
              "<style scoped>\n",
              "    .dataframe tbody tr th:only-of-type {\n",
              "        vertical-align: middle;\n",
              "    }\n",
              "\n",
              "    .dataframe tbody tr th {\n",
              "        vertical-align: top;\n",
              "    }\n",
              "\n",
              "    .dataframe thead th {\n",
              "        text-align: right;\n",
              "    }\n",
              "</style>\n",
              "<table border=\"1\" class=\"dataframe\">\n",
              "  <thead>\n",
              "    <tr style=\"text-align: right;\">\n",
              "      <th></th>\n",
              "      <th>Ticker</th>\n",
              "      <th>Price</th>\n",
              "      <th>Market Capitalization</th>\n",
              "      <th>Number Of Shares to Buy</th>\n",
              "    </tr>\n",
              "  </thead>\n",
              "  <tbody>\n",
              "    <tr>\n",
              "      <th>0</th>\n",
              "      <td>AAPL</td>\n",
              "      <td>179.94</td>\n",
              "      <td>2935283792560</td>\n",
              "      <td>N/A</td>\n",
              "    </tr>\n",
              "  </tbody>\n",
              "</table>\n",
              "</div>"
            ],
            "text/plain": [
              "  Ticker   Price Market Capitalization Number Of Shares to Buy\n",
              "0   AAPL  179.94         2935283792560                     N/A"
            ]
          },
          "metadata": {},
          "execution_count": 8
        }
      ],
      "source": [
        "final_dataframe = final_dataframe.append(\n",
        "                                        pd.Series(['AAPL', \n",
        "                                                   data['latestPrice'], \n",
        "                                                   data['marketCap'], \n",
        "                                                   'N/A'], \n",
        "                                                  index = my_columns), \n",
        "                                        ignore_index = True)\n",
        "final_dataframe"
      ]
    },
    {
      "cell_type": "markdown",
      "metadata": {
        "id": "VC2wZp4C5yID"
      },
      "source": [
        "## Looping Through The Tickers in Our List of Stocks\n",
        "\n",
        "Using the same logic that we outlined above, we can pull data for all S&P 500 stocks and store their data in the DataFrame using a `for` loop."
      ]
    },
    {
      "cell_type": "code",
      "execution_count": null,
      "metadata": {
        "id": "NNdRZjWS5yID"
      },
      "outputs": [],
      "source": [
        "final_dataframe = pd.DataFrame(columns = my_columns)\n",
        "for symbol in stocks['Ticker']:\n",
        "    api_url = f'https://sandbox.iexapis.com/stable/stock/{symbol}/quote?token={IEX_CLOUD_API_TOKEN}'\n",
        "    response = requests.get(api_url)\n",
        "    if response.status_code==200:\n",
        "      data = response.json()\n",
        "      final_dataframe = final_dataframe.append(\n",
        "                                        pd.Series([symbol, \n",
        "                                                   data['latestPrice'], \n",
        "                                                   data['marketCap'], \n",
        "                                                   'N/A'], \n",
        "                                                  index = my_columns), \n",
        "                                        ignore_index = True)"
      ]
    },
    {
      "cell_type": "code",
      "execution_count": null,
      "metadata": {
        "colab": {
          "base_uri": "https://localhost:8080/",
          "height": 419
        },
        "id": "RWe5XjD45yIE",
        "outputId": "6143e23a-ed06-4819-abf1-403ba7382801"
      },
      "outputs": [
        {
          "output_type": "execute_result",
          "data": {
            "text/html": [
              "<div>\n",
              "<style scoped>\n",
              "    .dataframe tbody tr th:only-of-type {\n",
              "        vertical-align: middle;\n",
              "    }\n",
              "\n",
              "    .dataframe tbody tr th {\n",
              "        vertical-align: top;\n",
              "    }\n",
              "\n",
              "    .dataframe thead th {\n",
              "        text-align: right;\n",
              "    }\n",
              "</style>\n",
              "<table border=\"1\" class=\"dataframe\">\n",
              "  <thead>\n",
              "    <tr style=\"text-align: right;\">\n",
              "      <th></th>\n",
              "      <th>Ticker</th>\n",
              "      <th>Price</th>\n",
              "      <th>Market Capitalization</th>\n",
              "      <th>Number Of Shares to Buy</th>\n",
              "    </tr>\n",
              "  </thead>\n",
              "  <tbody>\n",
              "    <tr>\n",
              "      <th>0</th>\n",
              "      <td>A</td>\n",
              "      <td>157.710</td>\n",
              "      <td>47529453424</td>\n",
              "      <td>N/A</td>\n",
              "    </tr>\n",
              "    <tr>\n",
              "      <th>1</th>\n",
              "      <td>AAL</td>\n",
              "      <td>17.710</td>\n",
              "      <td>11112751517</td>\n",
              "      <td>N/A</td>\n",
              "    </tr>\n",
              "    <tr>\n",
              "      <th>2</th>\n",
              "      <td>AAP</td>\n",
              "      <td>251.419</td>\n",
              "      <td>15421602249</td>\n",
              "      <td>N/A</td>\n",
              "    </tr>\n",
              "    <tr>\n",
              "      <th>3</th>\n",
              "      <td>AAPL</td>\n",
              "      <td>176.720</td>\n",
              "      <td>2875974703490</td>\n",
              "      <td>N/A</td>\n",
              "    </tr>\n",
              "    <tr>\n",
              "      <th>4</th>\n",
              "      <td>ABBV</td>\n",
              "      <td>137.790</td>\n",
              "      <td>246313413966</td>\n",
              "      <td>N/A</td>\n",
              "    </tr>\n",
              "    <tr>\n",
              "      <th>...</th>\n",
              "      <td>...</td>\n",
              "      <td>...</td>\n",
              "      <td>...</td>\n",
              "      <td>...</td>\n",
              "    </tr>\n",
              "    <tr>\n",
              "      <th>499</th>\n",
              "      <td>YUM</td>\n",
              "      <td>137.460</td>\n",
              "      <td>39839881740</td>\n",
              "      <td>N/A</td>\n",
              "    </tr>\n",
              "    <tr>\n",
              "      <th>500</th>\n",
              "      <td>ZBH</td>\n",
              "      <td>126.050</td>\n",
              "      <td>26758472515</td>\n",
              "      <td>N/A</td>\n",
              "    </tr>\n",
              "    <tr>\n",
              "      <th>501</th>\n",
              "      <td>ZBRA</td>\n",
              "      <td>601.937</td>\n",
              "      <td>31730662508</td>\n",
              "      <td>N/A</td>\n",
              "    </tr>\n",
              "    <tr>\n",
              "      <th>502</th>\n",
              "      <td>ZION</td>\n",
              "      <td>63.900</td>\n",
              "      <td>10306223499</td>\n",
              "      <td>N/A</td>\n",
              "    </tr>\n",
              "    <tr>\n",
              "      <th>503</th>\n",
              "      <td>ZTS</td>\n",
              "      <td>239.480</td>\n",
              "      <td>114951211385</td>\n",
              "      <td>N/A</td>\n",
              "    </tr>\n",
              "  </tbody>\n",
              "</table>\n",
              "<p>504 rows × 4 columns</p>\n",
              "</div>"
            ],
            "text/plain": [
              "    Ticker    Price Market Capitalization Number Of Shares to Buy\n",
              "0        A  157.710           47529453424                     N/A\n",
              "1      AAL   17.710           11112751517                     N/A\n",
              "2      AAP  251.419           15421602249                     N/A\n",
              "3     AAPL  176.720         2875974703490                     N/A\n",
              "4     ABBV  137.790          246313413966                     N/A\n",
              "..     ...      ...                   ...                     ...\n",
              "499    YUM  137.460           39839881740                     N/A\n",
              "500    ZBH  126.050           26758472515                     N/A\n",
              "501   ZBRA  601.937           31730662508                     N/A\n",
              "502   ZION   63.900           10306223499                     N/A\n",
              "503    ZTS  239.480          114951211385                     N/A\n",
              "\n",
              "[504 rows x 4 columns]"
            ]
          },
          "metadata": {},
          "execution_count": 10
        }
      ],
      "source": [
        "final_dataframe"
      ]
    },
    {
      "cell_type": "markdown",
      "metadata": {
        "id": "4CzAShnc5yIE"
      },
      "source": [
        "## Using Batch API Calls to Improve Performance\n",
        "\n",
        "Batch API calls are one of the easiest ways to improve the performance of your code.\n",
        "\n",
        "This is because HTTP requests are typically one of the slowest components of a script.\n",
        "\n",
        "Also, API providers will often give you discounted rates for using batch API calls since they are easier for the API provider to respond to.\n",
        "\n",
        "IEX Cloud limits their batch API calls to 100 tickers per request. Still, this reduces the number of API calls we'll make in this section from 500 to 5 - huge improvement! In this section, we'll split our list of stocks into groups of 100 and then make a batch API call for each group."
      ]
    },
    {
      "cell_type": "code",
      "execution_count": null,
      "metadata": {
        "id": "63J57pEW5yIE"
      },
      "outputs": [],
      "source": [
        "# Function sourced from \n",
        "# https://stackoverflow.com/questions/312443/how-do-you-split-a-list-into-evenly-sized-chunks\n",
        "def chunks(lst, n):\n",
        "    \"\"\"Yield successive n-sized chunks from lst.\"\"\"\n",
        "    for i in range(0, len(lst), n):\n",
        "        yield lst[i:i + n]"
      ]
    },
    {
      "cell_type": "code",
      "execution_count": null,
      "metadata": {
        "colab": {
          "base_uri": "https://localhost:8080/",
          "height": 419
        },
        "id": "jJUxrqnw5yIF",
        "outputId": "e7f65363-388b-4b24-e197-41baa48704e7"
      },
      "outputs": [
        {
          "output_type": "execute_result",
          "data": {
            "text/html": [
              "<div>\n",
              "<style scoped>\n",
              "    .dataframe tbody tr th:only-of-type {\n",
              "        vertical-align: middle;\n",
              "    }\n",
              "\n",
              "    .dataframe tbody tr th {\n",
              "        vertical-align: top;\n",
              "    }\n",
              "\n",
              "    .dataframe thead th {\n",
              "        text-align: right;\n",
              "    }\n",
              "</style>\n",
              "<table border=\"1\" class=\"dataframe\">\n",
              "  <thead>\n",
              "    <tr style=\"text-align: right;\">\n",
              "      <th></th>\n",
              "      <th>Ticker</th>\n",
              "      <th>Price</th>\n",
              "      <th>Market Capitalization</th>\n",
              "      <th>Number Of Shares to Buy</th>\n",
              "    </tr>\n",
              "  </thead>\n",
              "  <tbody>\n",
              "    <tr>\n",
              "      <th>0</th>\n",
              "      <td>A</td>\n",
              "      <td>155.460</td>\n",
              "      <td>46186396044</td>\n",
              "      <td>N/A</td>\n",
              "    </tr>\n",
              "    <tr>\n",
              "      <th>1</th>\n",
              "      <td>AAL</td>\n",
              "      <td>17.584</td>\n",
              "      <td>10987003718</td>\n",
              "      <td>N/A</td>\n",
              "    </tr>\n",
              "    <tr>\n",
              "      <th>2</th>\n",
              "      <td>AAP</td>\n",
              "      <td>242.510</td>\n",
              "      <td>15221676592</td>\n",
              "      <td>N/A</td>\n",
              "    </tr>\n",
              "    <tr>\n",
              "      <th>3</th>\n",
              "      <td>AAPL</td>\n",
              "      <td>183.388</td>\n",
              "      <td>2879073308218</td>\n",
              "      <td>N/A</td>\n",
              "    </tr>\n",
              "    <tr>\n",
              "      <th>4</th>\n",
              "      <td>ABBV</td>\n",
              "      <td>133.400</td>\n",
              "      <td>236272710002</td>\n",
              "      <td>N/A</td>\n",
              "    </tr>\n",
              "    <tr>\n",
              "      <th>...</th>\n",
              "      <td>...</td>\n",
              "      <td>...</td>\n",
              "      <td>...</td>\n",
              "      <td>...</td>\n",
              "    </tr>\n",
              "    <tr>\n",
              "      <th>499</th>\n",
              "      <td>YUM</td>\n",
              "      <td>134.070</td>\n",
              "      <td>40223579519</td>\n",
              "      <td>N/A</td>\n",
              "    </tr>\n",
              "    <tr>\n",
              "      <th>500</th>\n",
              "      <td>ZBH</td>\n",
              "      <td>126.450</td>\n",
              "      <td>26122131232</td>\n",
              "      <td>N/A</td>\n",
              "    </tr>\n",
              "    <tr>\n",
              "      <th>501</th>\n",
              "      <td>ZBRA</td>\n",
              "      <td>609.251</td>\n",
              "      <td>33114481985</td>\n",
              "      <td>N/A</td>\n",
              "    </tr>\n",
              "    <tr>\n",
              "      <th>502</th>\n",
              "      <td>ZION</td>\n",
              "      <td>66.500</td>\n",
              "      <td>10230301820</td>\n",
              "      <td>N/A</td>\n",
              "    </tr>\n",
              "    <tr>\n",
              "      <th>503</th>\n",
              "      <td>ZTS</td>\n",
              "      <td>238.420</td>\n",
              "      <td>111839448884</td>\n",
              "      <td>N/A</td>\n",
              "    </tr>\n",
              "  </tbody>\n",
              "</table>\n",
              "<p>504 rows × 4 columns</p>\n",
              "</div>"
            ],
            "text/plain": [
              "    Ticker    Price Market Capitalization Number Of Shares to Buy\n",
              "0        A  155.460           46186396044                     N/A\n",
              "1      AAL   17.584           10987003718                     N/A\n",
              "2      AAP  242.510           15221676592                     N/A\n",
              "3     AAPL  183.388         2879073308218                     N/A\n",
              "4     ABBV  133.400          236272710002                     N/A\n",
              "..     ...      ...                   ...                     ...\n",
              "499    YUM  134.070           40223579519                     N/A\n",
              "500    ZBH  126.450           26122131232                     N/A\n",
              "501   ZBRA  609.251           33114481985                     N/A\n",
              "502   ZION   66.500           10230301820                     N/A\n",
              "503    ZTS  238.420          111839448884                     N/A\n",
              "\n",
              "[504 rows x 4 columns]"
            ]
          },
          "metadata": {},
          "execution_count": 12
        }
      ],
      "source": [
        "symbol_groups = list(chunks(stocks['Ticker'], 100))\n",
        "symbol_strings = []\n",
        "for i in range(0, len(symbol_groups)):\n",
        "    symbol_strings.append(','.join(symbol_groups[i]))\n",
        "    # print(symbol_strings[i])\n",
        "\n",
        "final_dataframe = pd.DataFrame(columns = my_columns)\n",
        "\n",
        "for symbol_string in symbol_strings:\n",
        "#     print(symbol_strings)\n",
        "    batch_api_call_url = f'https://sandbox.iexapis.com/stable/stock/market/batch/?types=quote&symbols={symbol_string}&token={IEX_CLOUD_API_TOKEN}'\n",
        "    response = requests.get(batch_api_call_url)\n",
        "    if response.status_code==200:\n",
        "      data = response.json()\n",
        "      for symbol in symbol_string.split(','):\n",
        "        if(symbol!='KSU'):\n",
        "            final_dataframe = final_dataframe.append(\n",
        "                                            pd.Series([symbol, \n",
        "                                                      data[symbol]['quote']['latestPrice'], \n",
        "                                                      data[symbol]['quote']['marketCap'], \n",
        "                                                      'N/A'], \n",
        "                                                      index = my_columns), \n",
        "                                            ignore_index = True)\n",
        "            \n",
        "final_dataframe"
      ]
    },
    {
      "cell_type": "markdown",
      "metadata": {
        "id": "EP3qSUcU5yIF"
      },
      "source": [
        "## Calculating the Number of Shares to Buy\n",
        "\n",
        "As you can see in the DataFrame above, we stil haven't calculated the number of shares of each stock to buy.\n",
        "\n",
        "We'll do that next."
      ]
    },
    {
      "cell_type": "code",
      "execution_count": null,
      "metadata": {
        "colab": {
          "base_uri": "https://localhost:8080/"
        },
        "id": "aYyYeAfS5yIF",
        "outputId": "6867c113-6a26-442b-a01b-76c8cfd470fb"
      },
      "outputs": [
        {
          "name": "stdout",
          "output_type": "stream",
          "text": [
            "Enter the value of your portfolio:10000000\n"
          ]
        }
      ],
      "source": [
        "portfolio_size = input(\"Enter the value of your portfolio:\")\n",
        "\n",
        "try:\n",
        "    val = float(portfolio_size)\n",
        "except ValueError:\n",
        "    print(\"That's not a number! \\n Try again:\")\n",
        "    portfolio_size = input(\"Enter the value of your portfolio:\")"
      ]
    },
    {
      "cell_type": "code",
      "execution_count": null,
      "metadata": {
        "colab": {
          "base_uri": "https://localhost:8080/",
          "height": 419
        },
        "id": "yWOnJ6QS5yIF",
        "outputId": "ded7504f-5e2b-4c66-a94c-0e0c8326acdf"
      },
      "outputs": [
        {
          "output_type": "execute_result",
          "data": {
            "text/html": [
              "<div>\n",
              "<style scoped>\n",
              "    .dataframe tbody tr th:only-of-type {\n",
              "        vertical-align: middle;\n",
              "    }\n",
              "\n",
              "    .dataframe tbody tr th {\n",
              "        vertical-align: top;\n",
              "    }\n",
              "\n",
              "    .dataframe thead th {\n",
              "        text-align: right;\n",
              "    }\n",
              "</style>\n",
              "<table border=\"1\" class=\"dataframe\">\n",
              "  <thead>\n",
              "    <tr style=\"text-align: right;\">\n",
              "      <th></th>\n",
              "      <th>Ticker</th>\n",
              "      <th>Price</th>\n",
              "      <th>Market Capitalization</th>\n",
              "      <th>Number Of Shares to Buy</th>\n",
              "    </tr>\n",
              "  </thead>\n",
              "  <tbody>\n",
              "    <tr>\n",
              "      <th>0</th>\n",
              "      <td>A</td>\n",
              "      <td>155.460</td>\n",
              "      <td>46186396044</td>\n",
              "      <td>127</td>\n",
              "    </tr>\n",
              "    <tr>\n",
              "      <th>1</th>\n",
              "      <td>AAL</td>\n",
              "      <td>17.584</td>\n",
              "      <td>10987003718</td>\n",
              "      <td>1128</td>\n",
              "    </tr>\n",
              "    <tr>\n",
              "      <th>2</th>\n",
              "      <td>AAP</td>\n",
              "      <td>242.510</td>\n",
              "      <td>15221676592</td>\n",
              "      <td>81</td>\n",
              "    </tr>\n",
              "    <tr>\n",
              "      <th>3</th>\n",
              "      <td>AAPL</td>\n",
              "      <td>183.388</td>\n",
              "      <td>2879073308218</td>\n",
              "      <td>108</td>\n",
              "    </tr>\n",
              "    <tr>\n",
              "      <th>4</th>\n",
              "      <td>ABBV</td>\n",
              "      <td>133.400</td>\n",
              "      <td>236272710002</td>\n",
              "      <td>148</td>\n",
              "    </tr>\n",
              "    <tr>\n",
              "      <th>...</th>\n",
              "      <td>...</td>\n",
              "      <td>...</td>\n",
              "      <td>...</td>\n",
              "      <td>...</td>\n",
              "    </tr>\n",
              "    <tr>\n",
              "      <th>499</th>\n",
              "      <td>YUM</td>\n",
              "      <td>134.070</td>\n",
              "      <td>40223579519</td>\n",
              "      <td>147</td>\n",
              "    </tr>\n",
              "    <tr>\n",
              "      <th>500</th>\n",
              "      <td>ZBH</td>\n",
              "      <td>126.450</td>\n",
              "      <td>26122131232</td>\n",
              "      <td>156</td>\n",
              "    </tr>\n",
              "    <tr>\n",
              "      <th>501</th>\n",
              "      <td>ZBRA</td>\n",
              "      <td>609.251</td>\n",
              "      <td>33114481985</td>\n",
              "      <td>32</td>\n",
              "    </tr>\n",
              "    <tr>\n",
              "      <th>502</th>\n",
              "      <td>ZION</td>\n",
              "      <td>66.500</td>\n",
              "      <td>10230301820</td>\n",
              "      <td>298</td>\n",
              "    </tr>\n",
              "    <tr>\n",
              "      <th>503</th>\n",
              "      <td>ZTS</td>\n",
              "      <td>238.420</td>\n",
              "      <td>111839448884</td>\n",
              "      <td>83</td>\n",
              "    </tr>\n",
              "  </tbody>\n",
              "</table>\n",
              "<p>504 rows × 4 columns</p>\n",
              "</div>"
            ],
            "text/plain": [
              "    Ticker    Price Market Capitalization Number Of Shares to Buy\n",
              "0        A  155.460           46186396044                     127\n",
              "1      AAL   17.584           10987003718                    1128\n",
              "2      AAP  242.510           15221676592                      81\n",
              "3     AAPL  183.388         2879073308218                     108\n",
              "4     ABBV  133.400          236272710002                     148\n",
              "..     ...      ...                   ...                     ...\n",
              "499    YUM  134.070           40223579519                     147\n",
              "500    ZBH  126.450           26122131232                     156\n",
              "501   ZBRA  609.251           33114481985                      32\n",
              "502   ZION   66.500           10230301820                     298\n",
              "503    ZTS  238.420          111839448884                      83\n",
              "\n",
              "[504 rows x 4 columns]"
            ]
          },
          "metadata": {},
          "execution_count": 15
        }
      ],
      "source": [
        "position_size = float(portfolio_size) / len(final_dataframe.index)\n",
        "for i in range(0, len(final_dataframe.index)):\n",
        "    final_dataframe.loc[i, 'Number Of Shares to Buy'] = math.floor(position_size / final_dataframe['Price'][i])\n",
        "final_dataframe"
      ]
    },
    {
      "cell_type": "markdown",
      "metadata": {
        "id": "PiHGa_gc5yIF"
      },
      "source": [
        "## Formatting Our Excel Output\n",
        "\n",
        "We will be using the XlsxWriter library for Python to create nicely-formatted Excel files.\n",
        "\n",
        "XlsxWriter is an excellent package and offers tons of customization. However, the tradeoff for this is that the library can seem very complicated to new users. Accordingly, this section will be fairly long because I want to do a good job of explaining how XlsxWriter works.\n",
        "\n",
        "### Initializing our XlsxWriter Object"
      ]
    },
    {
      "cell_type": "code",
      "execution_count": null,
      "metadata": {
        "id": "DUtOoMHv5yIG"
      },
      "outputs": [],
      "source": [
        "writer = pd.ExcelWriter('recommended_trades.xlsx', engine='xlsxwriter')\n",
        "final_dataframe.to_excel(writer, sheet_name='Recommended Trades', index = False)"
      ]
    },
    {
      "cell_type": "markdown",
      "metadata": {
        "id": "1ZC8rbHA5yIG"
      },
      "source": [
        "### Creating the Formats We'll Need For Our `.xlsx` File\n",
        "\n",
        "Formats include colors, fonts, and also symbols like `%` and `$`. We'll need four main formats for our Excel document:\n",
        "* String format for tickers\n",
        "* \\\\$XX.XX format for stock prices\n",
        "* \\\\$XX,XXX format for market capitalization\n",
        "* Integer format for the number of shares to purchase"
      ]
    },
    {
      "cell_type": "code",
      "execution_count": null,
      "metadata": {
        "id": "OAc8eKUi5yIG"
      },
      "outputs": [],
      "source": [
        "background_color = '#0a0a23'\n",
        "font_color = '#ffffff'\n",
        "\n",
        "string_format = writer.book.add_format(\n",
        "        {\n",
        "            'font_color': font_color,\n",
        "            'bg_color': background_color,\n",
        "            'border': 1\n",
        "        }\n",
        "    )\n",
        "\n",
        "dollar_format = writer.book.add_format(\n",
        "        {\n",
        "            'num_format':'$0.00',\n",
        "            'font_color': font_color,\n",
        "            'bg_color': background_color,\n",
        "            'border': 1\n",
        "        }\n",
        "    )\n",
        "\n",
        "integer_format = writer.book.add_format(\n",
        "        {\n",
        "            'num_format':'0',\n",
        "            'font_color': font_color,\n",
        "            'bg_color': background_color,\n",
        "            'border': 1\n",
        "        }\n",
        "    )"
      ]
    },
    {
      "cell_type": "markdown",
      "metadata": {
        "id": "PRrMMyJd5yIH"
      },
      "source": [
        "### Applying the Formats to the Columns of Our `.xlsx` File\n",
        "\n",
        "We can use the `set_column` method applied to the `writer.sheets['Recommended Trades']` object to apply formats to specific columns of our spreadsheets.\n",
        "\n",
        "Here's an example:\n",
        "\n",
        "```python\n",
        "writer.sheets['Recommended Trades'].set_column('B:B', #This tells the method to apply the format to column B\n",
        "                     18, #This tells the method to apply a column width of 18 pixels\n",
        "                     string_template #This applies the format 'string_template' to the column\n",
        "                    )\n",
        "```"
      ]
    },
    {
      "cell_type": "code",
      "execution_count": null,
      "metadata": {
        "id": "CMqEfC2F5yIH"
      },
      "outputs": [],
      "source": [
        "# writer.sheets['Recommended Trades'].write('A1', 'Ticker', string_format)\n",
        "# writer.sheets['Recommended Trades'].write('B1', 'Price', string_format)\n",
        "# writer.sheets['Recommended Trades'].write('C1', 'Market Capitalization', string_format)\n",
        "# writer.sheets['Recommended Trades'].write('D1', 'Number Of Shares to Buy', string_format)\n",
        "# writer.sheets['Recommended Trades'].set_column('A:A', 20, string_format)\n",
        "# writer.sheets['Recommended Trades'].set_column('B:B', 20, dollar_format)\n",
        "# writer.sheets['Recommended Trades'].set_column('C:C', 20, dollar_format)\n",
        "# writer.sheets['Recommended Trades'].set_column('D:D', 20, integer_format)\n",
        "# writer.save()"
      ]
    },
    {
      "cell_type": "markdown",
      "metadata": {
        "id": "P9Lu0OHz5yIH"
      },
      "source": [
        "This code works, but it violates the software principle of \"Don't Repeat Yourself\". \n",
        "\n",
        "Let's simplify this by putting it in 2 loops:"
      ]
    },
    {
      "cell_type": "code",
      "execution_count": null,
      "metadata": {
        "id": "2757xXoA5yII"
      },
      "outputs": [],
      "source": [
        "column_formats = { \n",
        "                    'A': ['Ticker', string_format],\n",
        "                    'B': ['Price', dollar_format],\n",
        "                    'C': ['Market Capitalization', dollar_format],\n",
        "                    'D': ['Number of Shares to Buy', integer_format]\n",
        "                    }\n",
        "\n",
        "for column in column_formats.keys():\n",
        "    writer.sheets['Recommended Trades'].set_column(f'{column}:{column}', 20, column_formats[column][1])\n",
        "    writer.sheets['Recommended Trades'].write(f'{column}1', column_formats[column][0], string_format)"
      ]
    },
    {
      "cell_type": "markdown",
      "metadata": {
        "id": "CZvjAgRU5yII"
      },
      "source": [
        "## Saving Our Excel Output\n",
        "\n",
        "Saving our Excel file is very easy:"
      ]
    },
    {
      "cell_type": "code",
      "execution_count": null,
      "metadata": {
        "id": "o_PI0loO5yII"
      },
      "outputs": [],
      "source": [
        "writer.save()"
      ]
    }
  ],
  "metadata": {
    "kernelspec": {
      "display_name": "Python 3",
      "language": "python",
      "name": "python3"
    },
    "language_info": {
      "codemirror_mode": {
        "name": "ipython",
        "version": 3
      },
      "file_extension": ".py",
      "mimetype": "text/x-python",
      "name": "python",
      "nbconvert_exporter": "python",
      "pygments_lexer": "ipython3",
      "version": "3.8.2"
    },
    "colab": {
      "name": "Equal-Weight S&P 500 Index Fund.ipynb",
      "provenance": [],
      "collapsed_sections": []
    }
  },
  "nbformat": 4,
  "nbformat_minor": 0
}